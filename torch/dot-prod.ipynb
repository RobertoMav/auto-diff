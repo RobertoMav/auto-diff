{
 "cells": [
  {
   "cell_type": "code",
   "execution_count": 2,
   "metadata": {},
   "outputs": [],
   "source": [
    "import torch"
   ]
  },
  {
   "cell_type": "code",
   "execution_count": 13,
   "metadata": {},
   "outputs": [
    {
     "name": "stdout",
     "output_type": "stream",
     "text": [
      "torch.Size([2, 3, 4])\n",
      "tensor([[[-0.0408, -0.4732,  0.1724, -0.2304],\n",
      "         [-0.1856,  0.1158, -0.0559,  0.7265],\n",
      "         [-0.3722, -0.9696,  0.3330,  0.5162]],\n",
      "\n",
      "        [[ 0.6053, -1.2011, -1.4210,  0.1257],\n",
      "         [-0.3496,  1.8477,  2.6579,  1.4638],\n",
      "         [ 0.7041, -1.1398, -1.2432,  0.4889]]])\n",
      "torch.Size([2, 3, 4])\n",
      "tensor([[[-0.0408, -0.4732,  0.1724, -0.2304],\n",
      "         [-0.1856,  0.1158, -0.0559,  0.7265],\n",
      "         [-0.3722, -0.9696,  0.3330,  0.5162]],\n",
      "\n",
      "        [[ 0.6053, -1.2011, -1.4210,  0.1257],\n",
      "         [-0.3496,  1.8477,  2.6579,  1.4638],\n",
      "         [ 0.7041, -1.1398, -1.2432,  0.4889]]])\n"
     ]
    }
   ],
   "source": [
    "\n",
    "# Create a tensor of given shape\n",
    "x = torch.randn(2, 3, 2)\n",
    "\n",
    "# Create a tensor of given shape\n",
    "y = torch.randn(2, 2, 4)\n",
    "\n",
    "z = x @ y\n",
    "\n",
    "print(z.shape)\n",
    "print(z)\n",
    "\n",
    "# Calculate the dot product of x and y\n",
    "z = torch.bmm(x, y)\n",
    "print(z.shape)\n",
    "\n",
    "print(z)\n"
   ]
  },
  {
   "cell_type": "code",
   "execution_count": null,
   "metadata": {},
   "outputs": [
    {
     "name": "stdout",
     "output_type": "stream",
     "text": [
      "Generalized Dot Product (GDT): -1.056901454925537\n",
      "Generalized Dot Product (GDT): -1.0569013357162476\n"
     ]
    }
   ],
   "source": [
    "# Create two tensors of the same shape (a, b, c)\n",
    "a, b, c = 2, 3, 4  # Example dimensions\n",
    "X = torch.randn(a, b, c)\n",
    "Y = torch.randn(a, b, c)\n",
    "\n",
    "# Compute Hadamard (element-wise) product\n",
    "hadamard_product = X * Y\n",
    "\n",
    "# Sum over all elements (generalized dot product)\n",
    "GDT = hadamard_product.sum()\n",
    "\n",
    "print(\"Generalized Dot Product (GDT):\", GDT.item())  # Convert to scalar\n",
    "\n",
    "GDT = torch.einsum('ijk,ijk->', X, Y)  # Summing over all elements\n",
    "print(\"Generalized Dot Product (GDT):\", GDT.item())"
   ]
  }
 ],
 "metadata": {
  "kernelspec": {
   "display_name": "Python 3",
   "language": "python",
   "name": "python3"
  },
  "language_info": {
   "codemirror_mode": {
    "name": "ipython",
    "version": 3
   },
   "file_extension": ".py",
   "mimetype": "text/x-python",
   "name": "python",
   "nbconvert_exporter": "python",
   "pygments_lexer": "ipython3",
   "version": "3.11.10"
  }
 },
 "nbformat": 4,
 "nbformat_minor": 2
}
