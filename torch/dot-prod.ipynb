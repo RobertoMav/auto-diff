{
 "cells": [
  {
   "cell_type": "code",
   "execution_count": 1,
   "metadata": {},
   "outputs": [
    {
     "name": "stderr",
     "output_type": "stream",
     "text": [
      "/opt/homebrew/lib/python3.11/site-packages/torch/utils/_pytree.py:185: FutureWarning: optree is installed but the version is too old to support PyTorch Dynamo in C++ pytree. C++ pytree support is disabled. Please consider upgrading optree using `python3 -m pip install --upgrade 'optree>=0.13.0'`.\n",
      "  warnings.warn(\n"
     ]
    }
   ],
   "source": [
    "import torch"
   ]
  },
  {
   "cell_type": "code",
   "execution_count": 2,
   "metadata": {},
   "outputs": [
    {
     "name": "stdout",
     "output_type": "stream",
     "text": [
      "torch.Size([2, 3, 4])\n",
      "tensor([[[-0.5871,  1.9444, -1.4847, -2.4199],\n",
      "         [-0.3265,  0.2091, -0.1603,  0.0633],\n",
      "         [ 0.6754, -1.5638,  1.1945,  1.6966]],\n",
      "\n",
      "        [[-1.8205, -0.1933,  0.5299,  0.8050],\n",
      "         [ 0.4909,  0.7866, -0.0092, -0.0822],\n",
      "         [-1.4210, -2.1437,  0.0510,  0.2625]]])\n",
      "torch.Size([2, 3, 4])\n",
      "tensor([[[-0.5871,  1.9444, -1.4847, -2.4199],\n",
      "         [-0.3265,  0.2091, -0.1603,  0.0633],\n",
      "         [ 0.6754, -1.5638,  1.1945,  1.6966]],\n",
      "\n",
      "        [[-1.8205, -0.1933,  0.5299,  0.8050],\n",
      "         [ 0.4909,  0.7866, -0.0092, -0.0822],\n",
      "         [-1.4210, -2.1437,  0.0510,  0.2625]]])\n"
     ]
    }
   ],
   "source": [
    "\n",
    "# Create a tensor of given shape\n",
    "x = torch.randn(2, 3, 2)\n",
    "\n",
    "# Create a tensor of given shape\n",
    "y = torch.randn(2, 2, 4)\n",
    "\n",
    "z = x @ y\n",
    "\n",
    "print(z.shape)\n",
    "print(z)\n",
    "\n",
    "# Calculate the dot product of x and y\n",
    "z = torch.bmm(x, y)\n",
    "print(z.shape)\n",
    "\n",
    "print(z)\n"
   ]
  },
  {
   "cell_type": "code",
   "execution_count": 3,
   "metadata": {},
   "outputs": [
    {
     "name": "stdout",
     "output_type": "stream",
     "text": [
      "Generalized Dot Product (GDT): -0.10181689262390137\n",
      "Generalized Dot Product (GDT): -0.101817287504673\n"
     ]
    }
   ],
   "source": [
    "# Create two tensors of the same shape (a, b, c)\n",
    "a, b, c = 2, 3, 4  # Example dimensions\n",
    "X = torch.randn(a, b, c)\n",
    "Y = torch.randn(a, b, c)\n",
    "\n",
    "# Compute Hadamard (element-wise) product\n",
    "hadamard_product = X * Y\n",
    "\n",
    "# Sum over all elements (generalized dot product)\n",
    "GDT = hadamard_product.sum()\n",
    "\n",
    "print(\"Generalized Dot Product (GDT):\", GDT.item())  # Convert to scalar\n",
    "\n",
    "GDT = torch.einsum('ijk,ijk->', X, Y)  # Summing over all elements\n",
    "print(\"Generalized Dot Product (GDT):\", GDT.item())"
   ]
  },
  {
   "cell_type": "code",
   "execution_count": 26,
   "metadata": {},
   "outputs": [
    {
     "name": "stdout",
     "output_type": "stream",
     "text": [
      "-0.49949900000000014\n",
      "-0.49950000000000006\n"
     ]
    }
   ],
   "source": [
    "f = lambda x: x**2 - 1.5*x\n",
    "df = lambda x: 2*x - 1.5\n",
    "\n",
    "x = 1\n",
    "def f_lin(h):\n",
    "    # print(h, x)\n",
    "    # print(f(x))\n",
    "    # print(df(x))\n",
    "    # print(h-x)\n",
    "    return f(x) + df(x)*(h-x)\n",
    "\n",
    "print(f(x + 0.001))\n",
    "print(f_lin(x + 0.001))"
   ]
  },
  {
   "cell_type": "code",
   "execution_count": 33,
   "metadata": {},
   "outputs": [
    {
     "name": "stdout",
     "output_type": "stream",
     "text": [
      "0.5\n",
      "-0.505\n",
      "-0.0050000000000000044\n",
      "-0.007574999999999994\n",
      "-0.012575\n",
      "0.003769130624999995\n",
      "-0.008805869375000004\n",
      "-0.0018897699895504324\n",
      "-0.010695639364550437\n",
      "0.0009439429609511673\n",
      "-0.00975169640359927\n",
      "-0.00047239373992511054\n",
      "-0.01022409014352438\n",
      "0.00023618543167899277\n",
      "-0.009987904711845387\n",
      "-0.00011814278593592561\n",
      "-0.010106047497781313\n",
      "5.908249274375402e-05\n",
      "-0.010046965005037559\n",
      "-2.9550286731964276e-05\n"
     ]
    }
   ],
   "source": [
    "x = 0.5\n",
    "for i in range(10):\n",
    "    h = 0.01    \n",
    "    print(x)\n",
    "    deriv = f_lin(x + h)\n",
    "    print(deriv)\n",
    "    x += deriv"
   ]
  }
 ],
 "metadata": {
  "kernelspec": {
   "display_name": "Python 3",
   "language": "python",
   "name": "python3"
  },
  "language_info": {
   "codemirror_mode": {
    "name": "ipython",
    "version": 3
   },
   "file_extension": ".py",
   "mimetype": "text/x-python",
   "name": "python",
   "nbconvert_exporter": "python",
   "pygments_lexer": "ipython3",
   "version": "3.11.10"
  }
 },
 "nbformat": 4,
 "nbformat_minor": 2
}
