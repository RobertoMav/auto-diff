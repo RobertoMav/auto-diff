{
 "cells": [
  {
   "cell_type": "code",
   "execution_count": 318,
   "metadata": {},
   "outputs": [],
   "source": [
    "import numpy as np\n",
    "from torchvision import datasets\n",
    "from tqdm import tqdm\n",
    "\n",
    "np.random.seed(123)"
   ]
  },
  {
   "attachments": {},
   "cell_type": "markdown",
   "metadata": {},
   "source": [
    "# MLP implementation by hand"
   ]
  },
  {
   "attachments": {},
   "cell_type": "markdown",
   "metadata": {},
   "source": [
    "## Forward Prop (intuiton + applying)"
   ]
  },
  {
   "attachments": {},
   "cell_type": "markdown",
   "metadata": {},
   "source": [
    "### Intuiton:\n",
    "The ideia is to pass an input through the neurons in each layer, computing a mlp + an activation function. Reaching the output in which it will be computed a Loss function.\n",
    "\n",
    "To achieve this we need: data (input), neurons (funct), layers (matrix of neurons)\n",
    "\n",
    "The MNIST dataset will be applied to replicate results using similar architectures"
   ]
  },
  {
   "attachments": {},
   "cell_type": "markdown",
   "metadata": {},
   "source": [
    "### Data: MNIST Dataset"
   ]
  },
  {
   "cell_type": "code",
   "execution_count": 319,
   "metadata": {},
   "outputs": [],
   "source": [
    "train_dataset = datasets.MNIST(\n",
    "    root = \"data\",\n",
    "    train=True,\n",
    "    download=True\n",
    ")\n",
    "\n",
    "test_dataset = datasets.MNIST(\n",
    "    root = \"data\",\n",
    "    train=False,\n",
    "    download=True\n",
    ")"
   ]
  },
  {
   "attachments": {},
   "cell_type": "markdown",
   "metadata": {},
   "source": [
    "Pre loading data to access an np array\n"
   ]
  },
  {
   "cell_type": "code",
   "execution_count": 320,
   "metadata": {},
   "outputs": [
    {
     "name": "stderr",
     "output_type": "stream",
     "text": [
      "100%|██████████| 60000/60000 [00:02<00:00, 21403.16it/s]\n",
      "100%|██████████| 10000/10000 [00:00<00:00, 21456.24it/s]\n"
     ]
    }
   ],
   "source": [
    "# #Just checking the dataset type and how to grab its values\n",
    "# i = 0\n",
    "# data = np.zeros((784, len(test_dataset)))\n",
    "# labels = np.zeros((len(test_dataset), 1))\n",
    "\n",
    "# for X, y in test_dataset:\n",
    "\n",
    "#     x = np.array(X.getdata())\n",
    "#     x = x / 255\n",
    "#     data[:,i] = x\n",
    "#     labels[i] = y\n",
    "#     i += 1\n",
    "\n",
    "\n",
    "# i = 0\n",
    "# train_data = np.zeros((784, len(train_dataset)))\n",
    "# train_labels = np.zeros((len(train_dataset), 1))\n",
    "\n",
    "# for X, y in tqdm(train_dataset):\n",
    "\n",
    "#     x = np.array(X.getdata())\n",
    "#     x = x / 255\n",
    "#     train_data[:,i] = x\n",
    "#     train_labels[i] = y\n",
    "#     i += 1\n",
    "\n",
    "def pre_process_data(dataset):\n",
    "\n",
    "    dataset_size = len(dataset)\n",
    "    X, _ = dataset[0]\n",
    "    img_size = len(X.getdata())\n",
    "    data = np.zeros((img_size, dataset_size))\n",
    "    labels = np.zeros((dataset_size, 1))\n",
    "\n",
    "    i=0\n",
    "    for X, y in tqdm(dataset):\n",
    "        x = np.array(X.getdata())\n",
    "        x = x / 255\n",
    "        data[:,i] = x\n",
    "        labels[i] = y\n",
    "        i += 1\n",
    "\n",
    "    data_mean = np.mean(data)\n",
    "    data_std = np.std(data-data_mean)\n",
    "\n",
    "    data = (data - data_mean) / data_std\n",
    "\n",
    "    return data, labels\n",
    "\n",
    "train_data, train_labels = pre_process_data(train_dataset)\n",
    "test_data, test_labels = pre_process_data(test_dataset)"
   ]
  },
  {
   "attachments": {},
   "cell_type": "markdown",
   "metadata": {},
   "source": [
    "Just checking if data array contains correct data"
   ]
  },
  {
   "cell_type": "code",
   "execution_count": 321,
   "metadata": {},
   "outputs": [
    {
     "name": "stdout",
     "output_type": "stream",
     "text": [
      "(784, 10000)\n",
      "[-25889.95613595   7593.65536363 -53534.22676897  33888.40375557\n",
      " -23368.05657802]\n",
      "18454 28850 9871 37014 19237 "
     ]
    }
   ],
   "source": [
    "print(test_data.shape)\n",
    "check = test_data[:,:5]*255\n",
    "print(sum(check))\n",
    "\n",
    "i = 0\n",
    "for X, y in test_dataset:\n",
    "\n",
    "    print(sum(np.array(X.getdata())), end=\" \")\n",
    "    if i == 4:\n",
    "        break\n",
    "    i+=1"
   ]
  },
  {
   "attachments": {},
   "cell_type": "markdown",
   "metadata": {},
   "source": [
    "# Building network\n",
    "Non vectorized implementation"
   ]
  },
  {
   "cell_type": "code",
   "execution_count": 322,
   "metadata": {},
   "outputs": [],
   "source": [
    "from math import sqrt\n",
    "from numpy.random import randn\n",
    "\n",
    "\n",
    "def neuron(X, W, b):\n",
    "    \"\"\"Computing by hand each neuron\n",
    "    X (input) -> (in, 1) matrix\n",
    "    W (weights) -> (1, in) matrix\n",
    "    b (bias) -> (1, 1) scalar\"\"\"\n",
    "    z = W @ X + b\n",
    "    \n",
    "    return z\n",
    "\n",
    "\n",
    "def ReLU(z):\n",
    "    a = np.maximum(0.000000001, z)\n",
    "    return a\n",
    "\n",
    "\n",
    "def softmax(a):\n",
    "    \"\"\"Calculating a softmax activation function:\n",
    "    Using e^z / m * sum( e^zi ) \"\"\"\n",
    "    a_exp = np.exp(a)\n",
    "    sum_a_exp = np.sum(a_exp, axis=0)\n",
    "\n",
    "    for i in range(a.shape[1]):\n",
    "        a[:,i] = a_exp[:,i] / sum_a_exp[i]\n",
    "\n",
    "    return a\n",
    "\n",
    "\n",
    "def cross_entropy(logits, y):\n",
    "    pred_truth = logits[y]\n",
    "    loss = - np.log(pred_truth)\n",
    "\n",
    "    return loss\n",
    "\n",
    "\n",
    "def get_pred(logits):\n",
    "\n",
    "    arg = np.argmax(logits)\n",
    "\n",
    "    return arg\n",
    "\n",
    "\n",
    "def batch_norm_forward(batch, gamma, beta, eps=1e-5):\n",
    "    \n",
    "    mean_b = np.mean(batch, axis=0, keepdims=True)\n",
    "    std_b = np.mean((batch - mean_b)**2, axis=0,keepdims=True)\n",
    "    x_hat = (batch - mean_b) / ((std_b + eps)**(1/2))\n",
    "    out = gamma * x_hat + beta\n",
    "\n",
    "    cache = (gamma, x_hat, std_b, mean_b, batch, eps)\n",
    "\n",
    "    return out, cache\n",
    "\n",
    "\n",
    "def layer(output, input, W, b, gamma=None, beta=None, activ_funct=None):\n",
    "    \"\"\"Computing the value of a whole layer of neurons, so it will use the entry (X), multiplied by the Weights (W) + Bias \n",
    "    The ideia is to compute for each layer its output values, consisting of a matrix of (neurons, 1)\"\"\"\n",
    "    a = np.zeros((output, input.shape[1]))\n",
    "\n",
    "    if activ_funct == \"ReLU\":\n",
    "\n",
    "        z = neuron(X=input, W=W, b=b)\n",
    "        n, norm_cax = batch_norm_forward(z, gamma, beta)\n",
    "        a = ReLU(n)\n",
    "        \n",
    "    elif activ_funct == \"softmax\": \n",
    "\n",
    "        z = neuron(X=input, W=W, b=b)\n",
    "        a = softmax(z)\n",
    "        n = None\n",
    "        norm_cax = None\n",
    "    \n",
    "    return a, z, n, norm_cax\n"
   ]
  },
  {
   "cell_type": "code",
   "execution_count": 323,
   "metadata": {},
   "outputs": [],
   "source": [
    "cache = {}\n",
    "\n",
    "def get_wb(output, X_len):\n",
    "    std = sqrt(2.0 / X_len)\n",
    "    W_in = randn(output, X_len)\n",
    "    W = W_in * std\n",
    "    b = randn(output, 1)\n",
    "    b = b * std\n",
    "\n",
    "    return W, b\n",
    "\n",
    "#TODO: Create a model class to encompass both functions in one, creating each layer and if Wn does not exist, create Wn\n",
    "def model_weights(data):\n",
    "    \n",
    "    cache[\"W1\"], cache[\"b1\"] = get_wb(1024, data.shape[0])\n",
    "    cache[\"W2\"], cache[\"b2\"] = get_wb(512, 1024)\n",
    "    cache[\"W3\"], cache[\"b3\"] = get_wb(10, 512)\n",
    "    cache[\"gamma1\"] = np.ones((cache[\"W1\"].shape[0], 1))\n",
    "    cache[\"gamma2\"] = np.ones((cache[\"W2\"].shape[0], 1))\n",
    "    cache[\"beta1\"] = np.zeros((cache[\"W1\"].shape[0], 1))\n",
    "    cache[\"beta2\"] = np.zeros((cache[\"W2\"].shape[0], 1))\n",
    "    # cache[\"bmean_run1\"] = np.zeros((cache[\"W1\"].shape[0], 1))\n",
    "    # cache[\"bstd_run1\"] = np.ones((cache[\"W1\"].shape[0], 1))\n",
    "    # cache[\"bmean_run2\"] = np.zeros((cache[\"W2\"].shape[0], 1))\n",
    "    # cache[\"bstd_run2\"] = np.ones((cache[\"W2\"].shape[0], 1))\n",
    "\n",
    "    return cache\n",
    "\n",
    "def dropout(input, keep_prob):\n",
    "    '''gets weight matrix and prob estimate'''\n",
    "    D = np.random.rand(*input.shape)\n",
    "    mask = D < keep_prob\n",
    "    adj_input = input * mask\n",
    "    adj_input = adj_input / keep_prob\n",
    "\n",
    "    return adj_input, mask, keep_prob\n",
    "\n",
    "def dropout_backprop(dA, mask, keep_prob):\n",
    "    ddrop = dA * mask\n",
    "    ddrop = ddrop / keep_prob\n",
    "\n",
    "    return ddrop\n",
    "\n",
    "\n",
    "def batch_norm_backward(dout, cache):\n",
    "    gamma, x_hat, std_b, mean_b, batch, eps = cache\n",
    "    _, N = batch.shape\n",
    "\n",
    "    dgamma = np.sum(dout * x_hat, axis=1, keepdims=True)\n",
    "    dbeta = np.sum(dout, axis=1, keepdims=True)\n",
    "    dx_hat = dout * gamma #is it a vector?\n",
    "\n",
    "    # dx_std = np.sum(dx_hat * ((batch - mean_b)*-1/2*(std_b + eps)**(-3/2)), axis=0, keepdims=True)\n",
    "    # dx_mu = np.sum(dx_hat * -1* (std_b + eps)**(1/2), axis=0, keepdims=True) + dx_std * np.sum(-2* (batch-mean_b))/N\n",
    "    # dx_size_check = dx_mu * 1/N + dx_std * 2* (batch-mean_b)/N + dx_hat * 1/((std_b+eps)**(1/2))\n",
    "    dx = (1./N) * (std_b + eps)**(-0.5) * (N*dx_hat - np.sum(dx_hat, axis=0) - x_hat * np.sum(dx_hat * x_hat, axis=0))\n",
    "    # print(f\"dout: {dout.shape}\")\n",
    "    # print(f\"dx: {dx.shape}\")\n",
    "    return dx, dgamma, dbeta"
   ]
  },
  {
   "cell_type": "code",
   "execution_count": 324,
   "metadata": {},
   "outputs": [],
   "source": [
    "def forward(X, cache, keep_prob_d1=1, keep_prob_d2=1):\n",
    "\n",
    "    L1, Z1, N1, N1_cache  = layer(cache[\"W1\"].shape[0], X, activ_funct=\"ReLU\", W=cache[\"W1\"], b=cache[\"b1\"], gamma=cache[\"gamma1\"], beta=cache[\"beta1\"])\n",
    "    #Norm1, Norm1_cache = batch_norm_forward(L1, gamma=cache[\"gamma1\"], beta=cache[\"beta1\"])\n",
    "    D1, D1_mask, D1_prob = dropout(L1, keep_prob=keep_prob_d1)\n",
    "\n",
    "    L2, Z2, N2, N2_cache  = layer(cache[\"W2\"].shape[0], D1, activ_funct=\"ReLU\", W=cache[\"W2\"], b=cache[\"b2\"], gamma=cache[\"gamma2\"], beta=cache[\"beta2\"])\n",
    "    #Norm2, Norm2_cache = batch_norm_forward(L2, gamma=cache[\"gamma2\"], beta=cache[\"beta2\"])\n",
    "    D2, D2_mask, D2_prob = dropout(L2, keep_prob=keep_prob_d2)\n",
    "    \n",
    "    L3, Z3, _, _ = layer(cache[\"W3\"].shape[0], D2, activ_funct=\"softmax\", W=cache[\"W3\"], b=cache[\"b3\"])\n",
    "    \n",
    "    cache[\"A1\"] = L1\n",
    "    cache[\"A2\"] = L2\n",
    "    cache[\"A3\"] = L3\n",
    "\n",
    "    cache[\"Z1\"] = Z1\n",
    "    cache[\"Z2\"] = Z2\n",
    "    cache[\"Z3\"] = Z3\n",
    "\n",
    "    cache[\"D1\"] = D1\n",
    "    cache[\"D2\"] = D2\n",
    "\n",
    "    cache[\"N1\"] = N1\n",
    "    cache[\"N2\"] = N2\n",
    "\n",
    "    cache[\"N1_cache\"] = N1_cache\n",
    "    cache[\"N2_cache\"] = N2_cache\n",
    "\n",
    "    cache[\"D1_mask\"] = D1_mask\n",
    "    cache[\"D2_mask\"] = D2_mask\n",
    "\n",
    "    cache[\"D1_prob\"] = D1_prob\n",
    "    cache[\"D2_prob\"] = D2_prob\n",
    "    \n",
    "    return L3, cache"
   ]
  },
  {
   "cell_type": "code",
   "execution_count": 325,
   "metadata": {},
   "outputs": [],
   "source": [
    "def test(dataset, labels, loss_fn, cache, reg=False, keep_prob_d1=1, keep_prob_d2=1):\n",
    "\n",
    "    loss = 0\n",
    "    correct = 0\n",
    "\n",
    "    all_preds, cache = forward(dataset, cache, keep_prob_d1=keep_prob_d1, keep_prob_d2=keep_prob_d2)\n",
    "        \n",
    "    for i in range(all_preds.shape[1]):\n",
    "        logits = all_preds[:, i]\n",
    "        pred = get_pred(logits)\n",
    "        y = int(labels[i][0])\n",
    "        loss += loss_fn(logits, y)\n",
    "        correct += int(pred == y)\n",
    "\n",
    "    acc = correct / all_preds.shape[1]\n",
    "    loss = loss / all_preds.shape[1]\n",
    "\n",
    "    if reg:\n",
    "        w_sum = 0\n",
    "        for k in cache.keys():\n",
    "            if k[0] == 'W':\n",
    "                w_sum = w_sum + np.linalg.norm(cache[k])\n",
    "        loss = loss + reg/(2*all_preds.shape[1]) * w_sum\n",
    "\n",
    "    return loss, acc, correct, cache\n"
   ]
  },
  {
   "cell_type": "code",
   "execution_count": 326,
   "metadata": {},
   "outputs": [],
   "source": [
    "def one_hot_enc(labels):\n",
    "\n",
    "    Y_one_hot = np.zeros((10, labels.size))\n",
    "    label = np.array(labels, dtype=int)[:,0]\n",
    "    Y_one_hot[label, np.arange(label.size)] = 1\n",
    "\n",
    "    return Y_one_hot\n"
   ]
  },
  {
   "attachments": {},
   "cell_type": "markdown",
   "metadata": {},
   "source": [
    "# Implementing BackProp\n",
    "### Using SGD on the model created above\n",
    "\n",
    "#### Implementation: Computing the derivative of each computation on the NN forward network, working backwards to update the weights. The implementation will be made in a vectorized manner directly"
   ]
  },
  {
   "cell_type": "code",
   "execution_count": 327,
   "metadata": {},
   "outputs": [],
   "source": [
    "def adam_optimizer(weight, deriv, learning_rate, iter, beta_1=0.9, beta_2=0.99, eps=1e-8, Vd=None, Sd=None):\n",
    "    #MOMENTUM\n",
    "    Vd = beta_1 * Vd + (1 - beta_1) * deriv\n",
    "    #Starting the param\n",
    "    Vd = Vd / (1 - beta_1**iter)\n",
    "\n",
    "    #RMSProp\n",
    "    Sd = beta_2 * Sd + (1 - beta_2) * deriv**2\n",
    "    Sd = Sd / (1-beta_2**iter)\n",
    "\n",
    "    #Update\n",
    "    weight = weight - learning_rate * Vd / (np.sqrt(Sd + eps))\n",
    "\n",
    "    return weight, Vd, Sd"
   ]
  },
  {
   "cell_type": "code",
   "execution_count": 328,
   "metadata": {},
   "outputs": [],
   "source": [
    "def backprop(cache, batch, labels, learning_rate, reg, iter):\n",
    "    deriv = {}\n",
    "    cache[\"X\"] = batch\n",
    "    cache[\"Y\"] = one_hot_enc(labels)\n",
    "\n",
    "    Z2 = cache[\"Z2\"]\n",
    "    relu_Z2 = 1*(Z2 >= 0)\n",
    "\n",
    "    Z1 = cache[\"Z1\"]\n",
    "    relu_Z1 = 1*(Z1 >= 0)\n",
    "\n",
    "    dz3 = (cache[\"A3\"] - cache[\"Y\"]) # * (-1/cache[\"A3\"])\n",
    "    dw3 = (dz3 @ cache[\"A2\"].T) / batch.shape[1]\n",
    "    db3 = (np.sum(dz3, keepdims=True, axis=1)) / batch.shape[1]\n",
    "\n",
    "    dA2 = cache[\"W3\"].T @ dz3\n",
    "\n",
    "    D2_mask = cache[\"D2_mask\"]\n",
    "    D2_prob = cache[\"D2_prob\"]\n",
    "    dA2 = dropout_backprop(dA2, D2_mask, D2_prob)\n",
    "    #dA2, dgamma2, dbeta2 = batch_norm_backward(dA2, cache[\"N2_cache\"])\n",
    "\n",
    "    dz2 = dA2 * relu_Z2\n",
    "    dw2 = (dz2 @ cache[\"A1\"].T) / batch.shape[1]\n",
    "    db2 = (np.sum(dz2, keepdims=True, axis=1)) / batch.shape[1]\n",
    "    \n",
    "    dA1 = cache[\"W2\"].T @ dz2\n",
    "\n",
    "    D1_mask = cache[\"D1_mask\"]\n",
    "    D1_prob = cache[\"D1_prob\"]\n",
    "    dA1 = dropout_backprop(dA1, D1_mask, D1_prob)\n",
    "    #dA1, dgamma1, dbeta1 = batch_norm_backward(dA1, cache[\"N1_cache\"])\n",
    "    \n",
    "    dz1 = dA1 * relu_Z1\n",
    "    dw1 = (dz1 @ cache[\"X\"].T) / batch.shape[1]\n",
    "    db1 = (np.sum(dz1, keepdims=True, axis=1)) / batch.shape[1]\n",
    "\n",
    "    deriv['dw1'] = dw1\n",
    "    deriv['dw2'] = dw2\n",
    "    deriv['dw3'] = dw3\n",
    "    deriv['db1'] = db1\n",
    "    deriv['db2'] = db2\n",
    "    deriv['db3'] = db3\n",
    "\n",
    "    #REGULARIZATION - SALVADORA DEMAISSSSSSSSSSSSSSSSSSS\n",
    "    #Weight decay - To add this we NEED TO CHANGE THE LOSS FUNCT\n",
    "    # dw3 += reg/batch.shape[1] * cache[\"W3\"]\n",
    "    # dw2 += reg/batch.shape[1] * cache[\"W2\"]\n",
    "    # dw1 += reg/batch.shape[1] * cache[\"W1\"]\n",
    "\n",
    "    #ADAM implementation\n",
    "    try:\n",
    "        Vdw3 += 1\n",
    "    except UnboundLocalError:\n",
    "        Vdw3 = Sdw3 = Vdb3 = Sdb3 = Vdw2 = Sdw2 = Vdb2 = Sdb2 = Vdw1 = Sdw1 = Vdb1 = Sdb1 = Vdg2 = Vdg1 = Sdg2 = Sdg1 = Vdbet2 = Vdbet1 = Sdbet2 = Sdbet1 = 0\n",
    "        \n",
    "    cache[\"W3\"], Vdw3, Sdw3 = adam_optimizer(cache[\"W3\"], dw3, learning_rate=learning_rate, iter=iter, Vd=Vdw3, Sd=Sdw3)\n",
    "    cache[\"b3\"], Vdb3, Sdb3 = adam_optimizer(cache[\"b3\"], db3, learning_rate=learning_rate, iter=iter, Vd=Vdb3, Sd=Sdb3)\n",
    "\n",
    "    # cache[\"gamma2\"], Vdg2, Sdg2 = adam_optimizer(cache[\"gamma2\"], dgamma2, learning_rate=learning_rate, iter=iter, Vd=Vdg2, Sd=Sdg2)\n",
    "    # cache[\"beta2\"], Vdb2, Sdb2 = adam_optimizer(cache[\"beta2\"], dbeta2, learning_rate=learning_rate, iter=iter, Vd=Vdb2, Sd=Sdb2)\n",
    "    \n",
    "    cache[\"W2\"], Vdw2, Sdw2 = adam_optimizer(cache[\"W2\"], dw2, learning_rate=learning_rate, iter=iter, Vd=Vdw2, Sd=Sdw2)\n",
    "    cache[\"b2\"], Vdb2, Sdb2 = adam_optimizer(cache[\"b2\"], db2, learning_rate=learning_rate, iter=iter, Vd=Vdb2, Sd=Sdb2)\n",
    "    \n",
    "    # cache[\"gamma1\"], Vdg1, Sdg1 = adam_optimizer(cache[\"gamma1\"], dgamma1, learning_rate=learning_rate, iter=iter, Vd=Vdg1, Sd=Sdg1)\n",
    "    # cache[\"beta1\"], Vdb1, Sdb1 = adam_optimizer(cache[\"beta1\"], dbeta1, learning_rate=learning_rate, iter=iter, Vd=Vdb1, Sd=Sdb1)\n",
    "\n",
    "    cache[\"W1\"], Vdw1, Sdw1 = adam_optimizer(cache[\"W1\"], dw1, learning_rate=learning_rate, iter=iter, Vd=Vdw1, Sd=Sdw1)\n",
    "    cache[\"b1\"], Vdb1, Sdb1 = adam_optimizer(cache[\"b1\"], db1, learning_rate=learning_rate, iter=iter, Vd=Vdb1, Sd=Sdb1)\n",
    "\n",
    "    \n",
    "    iter += 1\n",
    "    return cache, iter, deriv"
   ]
  },
  {
   "cell_type": "code",
   "execution_count": 329,
   "metadata": {},
   "outputs": [],
   "source": [
    "def train(dataset, labels, learning_rate, loss_fn, cache, batch_size, reg, iter=1, keep_prob_d1=1, keep_prob_d2=1):\n",
    "\n",
    "    size = dataset.shape[1]\n",
    "    for i in tqdm(range(0, size, batch_size)):\n",
    "\n",
    "        if i+batch_size > size:\n",
    "            mini_batch = dataset[:, i:size]\n",
    "            mini_y = labels[i:size]\n",
    "        else:\n",
    "            mini_batch = dataset[:, i:i+batch_size]\n",
    "            mini_y = labels[i:i+batch_size]\n",
    "            \n",
    "        loss, acc, _, cache_updt = test(mini_batch, mini_y, loss_fn, cache, reg=reg, keep_prob_d1=keep_prob_d1, keep_prob_d2=keep_prob_d2)\n",
    "        cache_final, iter, deriv = backprop(cache_updt, mini_batch, mini_y, learning_rate=learning_rate,reg=reg, iter=iter)\n",
    "\n",
    "    return loss, acc, cache_final, iter, deriv"
   ]
  },
  {
   "cell_type": "code",
   "execution_count": 330,
   "metadata": {},
   "outputs": [
    {
     "name": "stdout",
     "output_type": "stream",
     "text": [
      "TEST ---- loss: 2.67, acc (%): 8.79, correct: 879\n",
      "TRAIN --- loss: 2.66, acc (%): 8.48, correct: 5090\n"
     ]
    },
    {
     "name": "stderr",
     "output_type": "stream",
     "text": [
      "100%|██████████| 469/469 [00:17<00:00, 26.69it/s]\n"
     ]
    },
    {
     "name": "stdout",
     "output_type": "stream",
     "text": [
      "Epoch: 1, batch_loss: 0.35, acc (%): 8.48\n",
      "TEST ---- loss: 0.24, acc (%): 92.93, correct: 9293\n",
      "TRAIN --- loss: 0.25, acc (%): 92.49, correct: 55495\n"
     ]
    },
    {
     "name": "stderr",
     "output_type": "stream",
     "text": [
      "100%|██████████| 469/469 [00:16<00:00, 27.90it/s]\n"
     ]
    },
    {
     "name": "stdout",
     "output_type": "stream",
     "text": [
      "Epoch: 2, batch_loss: 0.27, acc (%): 92.49\n",
      "TEST ---- loss: 0.19, acc (%): 94.52, correct: 9452\n",
      "TRAIN --- loss: 0.19, acc (%): 94.45, correct: 56672\n"
     ]
    },
    {
     "name": "stderr",
     "output_type": "stream",
     "text": [
      "100%|██████████| 469/469 [00:17<00:00, 27.29it/s]\n"
     ]
    },
    {
     "name": "stdout",
     "output_type": "stream",
     "text": [
      "Epoch: 3, batch_loss: 0.21, acc (%): 94.45\n",
      "TEST ---- loss: 0.16, acc (%): 95.38, correct: 9538\n",
      "TRAIN --- loss: 0.15, acc (%): 95.46, correct: 57275\n"
     ]
    },
    {
     "name": "stderr",
     "output_type": "stream",
     "text": [
      "100%|██████████| 469/469 [00:18<00:00, 25.76it/s]\n"
     ]
    },
    {
     "name": "stdout",
     "output_type": "stream",
     "text": [
      "Epoch: 4, batch_loss: 0.23, acc (%): 95.46\n",
      "TEST ---- loss: 0.14, acc (%): 95.81, correct: 9581\n",
      "TRAIN --- loss: 0.13, acc (%): 96.05, correct: 57632\n"
     ]
    },
    {
     "name": "stderr",
     "output_type": "stream",
     "text": [
      "100%|██████████| 469/469 [00:17<00:00, 27.26it/s]\n"
     ]
    },
    {
     "name": "stdout",
     "output_type": "stream",
     "text": [
      "Epoch: 5, batch_loss: 0.21, acc (%): 96.05\n",
      "TEST ---- loss: 0.13, acc (%): 96.24, correct: 9624\n",
      "TRAIN --- loss: 0.11, acc (%): 96.63, correct: 57979\n"
     ]
    },
    {
     "name": "stderr",
     "output_type": "stream",
     "text": [
      "100%|██████████| 469/469 [00:17<00:00, 26.72it/s]\n"
     ]
    },
    {
     "name": "stdout",
     "output_type": "stream",
     "text": [
      "Epoch: 6, batch_loss: 0.20, acc (%): 96.63\n",
      "TEST ---- loss: 0.12, acc (%): 96.46, correct: 9646\n",
      "TRAIN --- loss: 0.10, acc (%): 96.96, correct: 58178\n"
     ]
    },
    {
     "name": "stderr",
     "output_type": "stream",
     "text": [
      "100%|██████████| 469/469 [00:17<00:00, 26.77it/s]\n"
     ]
    },
    {
     "name": "stdout",
     "output_type": "stream",
     "text": [
      "Epoch: 7, batch_loss: 0.24, acc (%): 96.96\n",
      "TEST ---- loss: 0.11, acc (%): 96.78, correct: 9678\n",
      "TRAIN --- loss: 0.09, acc (%): 97.28, correct: 58366\n"
     ]
    },
    {
     "name": "stderr",
     "output_type": "stream",
     "text": [
      "100%|██████████| 469/469 [00:17<00:00, 27.49it/s]\n"
     ]
    },
    {
     "name": "stdout",
     "output_type": "stream",
     "text": [
      "Epoch: 8, batch_loss: 0.23, acc (%): 97.28\n",
      "TEST ---- loss: 0.11, acc (%): 96.87, correct: 9687\n",
      "TRAIN --- loss: 0.09, acc (%): 97.52, correct: 58512\n"
     ]
    },
    {
     "name": "stderr",
     "output_type": "stream",
     "text": [
      "100%|██████████| 469/469 [00:18<00:00, 25.95it/s]\n"
     ]
    },
    {
     "name": "stdout",
     "output_type": "stream",
     "text": [
      "Epoch: 9, batch_loss: 0.20, acc (%): 97.52\n",
      "TEST ---- loss: 0.10, acc (%): 97.04, correct: 9704\n",
      "TRAIN --- loss: 0.08, acc (%): 97.67, correct: 58603\n"
     ]
    },
    {
     "name": "stderr",
     "output_type": "stream",
     "text": [
      "100%|██████████| 469/469 [00:17<00:00, 26.99it/s]\n"
     ]
    },
    {
     "name": "stdout",
     "output_type": "stream",
     "text": [
      "Epoch: 10, batch_loss: 0.22, acc (%): 97.67\n",
      "TEST ---- loss: 0.10, acc (%): 97.22, correct: 9722\n",
      "TRAIN --- loss: 0.07, acc (%): 97.88, correct: 58727\n"
     ]
    },
    {
     "name": "stderr",
     "output_type": "stream",
     "text": [
      "100%|██████████| 469/469 [00:17<00:00, 27.59it/s]\n"
     ]
    },
    {
     "name": "stdout",
     "output_type": "stream",
     "text": [
      "Epoch: 11, batch_loss: 0.28, acc (%): 97.88\n",
      "TEST ---- loss: 0.09, acc (%): 97.19, correct: 9719\n",
      "TRAIN --- loss: 0.07, acc (%): 97.97, correct: 58785\n"
     ]
    },
    {
     "name": "stderr",
     "output_type": "stream",
     "text": [
      "100%|██████████| 469/469 [00:19<00:00, 23.96it/s]\n"
     ]
    },
    {
     "name": "stdout",
     "output_type": "stream",
     "text": [
      "Epoch: 12, batch_loss: 0.21, acc (%): 97.97\n",
      "TEST ---- loss: 0.09, acc (%): 97.27, correct: 9727\n",
      "TRAIN --- loss: 0.07, acc (%): 98.10, correct: 58861\n"
     ]
    },
    {
     "name": "stderr",
     "output_type": "stream",
     "text": [
      "100%|██████████| 469/469 [00:20<00:00, 23.16it/s]\n"
     ]
    },
    {
     "name": "stdout",
     "output_type": "stream",
     "text": [
      "Epoch: 13, batch_loss: 0.26, acc (%): 98.10\n",
      "TEST ---- loss: 0.09, acc (%): 97.43, correct: 9743\n",
      "TRAIN --- loss: 0.06, acc (%): 98.19, correct: 58917\n"
     ]
    },
    {
     "name": "stderr",
     "output_type": "stream",
     "text": [
      "100%|██████████| 469/469 [00:17<00:00, 27.51it/s]\n"
     ]
    },
    {
     "name": "stdout",
     "output_type": "stream",
     "text": [
      "Epoch: 14, batch_loss: 0.20, acc (%): 98.19\n",
      "TEST ---- loss: 0.09, acc (%): 97.44, correct: 9744\n",
      "TRAIN --- loss: 0.06, acc (%): 98.26, correct: 58956\n"
     ]
    },
    {
     "name": "stderr",
     "output_type": "stream",
     "text": [
      "100%|██████████| 469/469 [00:19<00:00, 23.97it/s]\n"
     ]
    },
    {
     "name": "stdout",
     "output_type": "stream",
     "text": [
      "Epoch: 15, batch_loss: 0.23, acc (%): 98.26\n",
      "TEST ---- loss: 0.09, acc (%): 97.53, correct: 9753\n",
      "TRAIN --- loss: 0.06, acc (%): 98.32, correct: 58992\n"
     ]
    },
    {
     "name": "stderr",
     "output_type": "stream",
     "text": [
      "100%|██████████| 469/469 [00:14<00:00, 31.35it/s]\n"
     ]
    },
    {
     "name": "stdout",
     "output_type": "stream",
     "text": [
      "Epoch: 16, batch_loss: 0.21, acc (%): 98.32\n",
      "TEST ---- loss: 0.08, acc (%): 97.53, correct: 9753\n",
      "TRAIN --- loss: 0.06, acc (%): 98.41, correct: 59048\n"
     ]
    },
    {
     "name": "stderr",
     "output_type": "stream",
     "text": [
      "100%|██████████| 469/469 [00:15<00:00, 31.13it/s]\n"
     ]
    },
    {
     "name": "stdout",
     "output_type": "stream",
     "text": [
      "Epoch: 17, batch_loss: 0.20, acc (%): 98.41\n",
      "TEST ---- loss: 0.08, acc (%): 97.64, correct: 9764\n",
      "TRAIN --- loss: 0.05, acc (%): 98.48, correct: 59087\n"
     ]
    },
    {
     "name": "stderr",
     "output_type": "stream",
     "text": [
      "100%|██████████| 469/469 [00:14<00:00, 31.45it/s]\n"
     ]
    },
    {
     "name": "stdout",
     "output_type": "stream",
     "text": [
      "Epoch: 18, batch_loss: 0.16, acc (%): 98.48\n",
      "TEST ---- loss: 0.08, acc (%): 97.72, correct: 9772\n",
      "TRAIN --- loss: 0.05, acc (%): 98.53, correct: 59117\n"
     ]
    },
    {
     "name": "stderr",
     "output_type": "stream",
     "text": [
      "100%|██████████| 469/469 [00:15<00:00, 30.61it/s]\n"
     ]
    },
    {
     "name": "stdout",
     "output_type": "stream",
     "text": [
      "Epoch: 19, batch_loss: 0.22, acc (%): 98.53\n",
      "TEST ---- loss: 0.08, acc (%): 97.76, correct: 9776\n",
      "TRAIN --- loss: 0.05, acc (%): 98.56, correct: 59136\n"
     ]
    },
    {
     "name": "stderr",
     "output_type": "stream",
     "text": [
      "100%|██████████| 469/469 [00:15<00:00, 30.99it/s]\n"
     ]
    },
    {
     "name": "stdout",
     "output_type": "stream",
     "text": [
      "Epoch: 20, batch_loss: 0.19, acc (%): 98.56\n",
      "TEST ---- loss: 0.08, acc (%): 97.69, correct: 9769\n",
      "TRAIN --- loss: 0.05, acc (%): 98.63, correct: 59177\n"
     ]
    },
    {
     "name": "stderr",
     "output_type": "stream",
     "text": [
      "100%|██████████| 469/469 [00:14<00:00, 31.49it/s]\n"
     ]
    },
    {
     "name": "stdout",
     "output_type": "stream",
     "text": [
      "Epoch: 21, batch_loss: 0.23, acc (%): 98.63\n",
      "TEST ---- loss: 0.08, acc (%): 97.72, correct: 9772\n",
      "TRAIN --- loss: 0.05, acc (%): 98.70, correct: 59219\n"
     ]
    },
    {
     "name": "stderr",
     "output_type": "stream",
     "text": [
      "100%|██████████| 469/469 [00:14<00:00, 31.45it/s]\n"
     ]
    },
    {
     "name": "stdout",
     "output_type": "stream",
     "text": [
      "Epoch: 22, batch_loss: 0.18, acc (%): 98.70\n",
      "TEST ---- loss: 0.08, acc (%): 97.81, correct: 9781\n",
      "TRAIN --- loss: 0.05, acc (%): 98.70, correct: 59218\n"
     ]
    },
    {
     "name": "stderr",
     "output_type": "stream",
     "text": [
      "100%|██████████| 469/469 [00:15<00:00, 30.78it/s]\n"
     ]
    },
    {
     "name": "stdout",
     "output_type": "stream",
     "text": [
      "Epoch: 23, batch_loss: 0.31, acc (%): 98.70\n",
      "TEST ---- loss: 0.08, acc (%): 97.85, correct: 9785\n",
      "TRAIN --- loss: 0.04, acc (%): 98.75, correct: 59250\n"
     ]
    },
    {
     "name": "stderr",
     "output_type": "stream",
     "text": [
      "100%|██████████| 469/469 [00:14<00:00, 31.86it/s]\n"
     ]
    },
    {
     "name": "stdout",
     "output_type": "stream",
     "text": [
      "Epoch: 24, batch_loss: 0.25, acc (%): 98.75\n",
      "TEST ---- loss: 0.08, acc (%): 97.91, correct: 9791\n",
      "TRAIN --- loss: 0.04, acc (%): 98.73, correct: 59241\n"
     ]
    },
    {
     "name": "stderr",
     "output_type": "stream",
     "text": [
      "100%|██████████| 469/469 [00:14<00:00, 31.28it/s]\n"
     ]
    },
    {
     "name": "stdout",
     "output_type": "stream",
     "text": [
      "Epoch: 25, batch_loss: 0.20, acc (%): 98.73\n",
      "TEST ---- loss: 0.08, acc (%): 97.93, correct: 9793\n",
      "TRAIN --- loss: 0.04, acc (%): 98.78, correct: 59268\n"
     ]
    },
    {
     "name": "stderr",
     "output_type": "stream",
     "text": [
      "100%|██████████| 469/469 [00:15<00:00, 30.80it/s]\n"
     ]
    },
    {
     "name": "stdout",
     "output_type": "stream",
     "text": [
      "Epoch: 26, batch_loss: 0.25, acc (%): 98.78\n",
      "TEST ---- loss: 0.08, acc (%): 97.92, correct: 9792\n",
      "TRAIN --- loss: 0.04, acc (%): 98.83, correct: 59301\n"
     ]
    },
    {
     "name": "stderr",
     "output_type": "stream",
     "text": [
      "100%|██████████| 469/469 [00:14<00:00, 31.67it/s]\n"
     ]
    },
    {
     "name": "stdout",
     "output_type": "stream",
     "text": [
      "Epoch: 27, batch_loss: 0.16, acc (%): 98.83\n",
      "TEST ---- loss: 0.08, acc (%): 97.97, correct: 9797\n",
      "TRAIN --- loss: 0.04, acc (%): 98.81, correct: 59285\n"
     ]
    },
    {
     "name": "stderr",
     "output_type": "stream",
     "text": [
      "100%|██████████| 469/469 [00:14<00:00, 31.62it/s]\n"
     ]
    },
    {
     "name": "stdout",
     "output_type": "stream",
     "text": [
      "Epoch: 28, batch_loss: 0.24, acc (%): 98.81\n",
      "TEST ---- loss: 0.07, acc (%): 97.88, correct: 9788\n",
      "TRAIN --- loss: 0.04, acc (%): 98.84, correct: 59305\n"
     ]
    },
    {
     "name": "stderr",
     "output_type": "stream",
     "text": [
      "100%|██████████| 469/469 [00:14<00:00, 31.58it/s]\n"
     ]
    },
    {
     "name": "stdout",
     "output_type": "stream",
     "text": [
      "Epoch: 29, batch_loss: 0.27, acc (%): 98.84\n",
      "TEST ---- loss: 0.08, acc (%): 97.97, correct: 9797\n",
      "TRAIN --- loss: 0.04, acc (%): 98.88, correct: 59326\n"
     ]
    },
    {
     "name": "stderr",
     "output_type": "stream",
     "text": [
      "100%|██████████| 469/469 [00:16<00:00, 28.64it/s]\n"
     ]
    },
    {
     "name": "stdout",
     "output_type": "stream",
     "text": [
      "Epoch: 30, batch_loss: 0.24, acc (%): 98.88\n",
      "\n",
      "\n",
      "\n",
      "TEST ----- loss: 0.08, acc (%): 98.02, correct: 9802\n",
      "TRAIN ---- loss: 0.04, acc (%): 98.90, correct: 59342\n"
     ]
    }
   ],
   "source": [
    "learning_rate = 1e-4\n",
    "reg = 0.01\n",
    "epochs = 30\n",
    "batch_size = 128\n",
    "keep_prob_d1 = 0.6\n",
    "keep_prob_d2 = 0.75\n",
    "cache = model_weights(train_data)\n",
    "\n",
    "for i in range(epochs):\n",
    "    test_loss, test_acc, test_correct, _ = test(test_data, test_labels, loss_fn=cross_entropy, cache=cache, reg=reg)\n",
    "    print(f\"TEST ---- loss: {test_loss:.2f}, acc (%): {test_acc*100:.2f}, correct: {test_correct}\")\n",
    "    loss, acc, correct, _ = test(train_data, train_labels, loss_fn=cross_entropy, cache=cache, reg=reg)\n",
    "    print(f\"TRAIN --- loss: {loss:.2f}, acc (%): {acc*100:.2f}, correct: {correct}\")\n",
    "\n",
    "    batch_loss, batch_acc, cache, iter, _ = train(train_data, train_labels, learning_rate=learning_rate, loss_fn=cross_entropy, cache=cache, batch_size=batch_size, reg=reg, keep_prob_d1=keep_prob_d1, keep_prob_d2=keep_prob_d2)\n",
    "    print(f\"Epoch: {i+1}, batch_loss: {batch_loss:.2f}, acc (%): {acc*100:.2f}\")\n",
    "\n",
    "\n",
    "print(\"\\n\\n\")\n",
    "loss, acc, correct, _ = test(test_data, test_labels, loss_fn=cross_entropy, cache=cache)\n",
    "print(f\"TEST ----- loss: {loss:.2f}, acc (%): {acc*100:.2f}, correct: {correct}\")\n",
    "\n",
    "loss, acc, correct, _ = test(train_data, train_labels, loss_fn=cross_entropy, cache=cache)\n",
    "print(f\"TRAIN ---- loss: {loss:.2f}, acc (%): {acc*100:.2f}, correct: {correct}\")"
   ]
  },
  {
   "attachments": {},
   "cell_type": "markdown",
   "metadata": {},
   "source": [
    "# Improving algorithm\n",
    "In this step we have a somewhat fitted model \n",
    "### Implementing: \n",
    "--1. ADAM optimizer----2. Gradient Checking----3. Regularization (L2)----4. Dropout ---- 5. Batch Normalization  ------"
   ]
  },
  {
   "attachments": {
    "image-2.png": {
     "image/png": "[encoded data removed]"
    },
    "image.png": {
     "image/png": "[encoded data removed]"
    }
   },
   "cell_type": "markdown",
   "metadata": {},
   "source": [
    "## Gradient Checking\n",
    "1. Input data (random generated)\n",
    "2. Input 1. into model and compute backprop once, getting the gradients dw\n",
    "3. Compute a small variation (positive and negative) in the cost function considering the same 1. data\n",
    "4. Get the difference as: \n",
    "\n",
    "![image.png](attachment:image.png)\n",
    "\n",
    "5. Calculate diff of 2 to 4 as: \n",
    "\n",
    "![image.png](attachment:image-2.png)"
   ]
  },
  {
   "cell_type": "code",
   "execution_count": 331,
   "metadata": {},
   "outputs": [],
   "source": [
    "# gradient_input_data = test_data[:,:2]\n",
    "# #gradient_input_data = np.expand_dims(gradient_input_data, axis=1)\n",
    "# gradient_label = test_labels[:2,:]\n",
    "# #gradient_label = np.expand_dims(gradient_label, axis=1)\n",
    "# print(gradient_input_data.shape)\n",
    "# print(gradient_label.shape)\n",
    "\n",
    "# caxx = model_weights(gradient_input_data)\n",
    "# h = 1e-6\n",
    "# fake_cache_pos = fake_cache_minus = app_grad = caxx\n",
    "\n",
    "# for k, v in cache.items():\n",
    "\n",
    "#     if k[0] == 'W' or k[0] == 'b':\n",
    "\n",
    "#         for i in tqdm(range(v.shape[0])):\n",
    "#             for j in range(v.shape[1]):\n",
    "\n",
    "#                 fake_cache_pos[k][i][j] = v[i][j] + h\n",
    "#                 fake_cache_minus[k][i][j] = v[i][j] - h\n",
    "#                 grad_plus_loss, _, _, _ = test(gradient_input_data, gradient_label, loss_fn=cross_entropy, cache=fake_cache_pos)\n",
    "#                 grad_minus_loss, _, _, _ = test(gradient_input_data, gradient_label, loss_fn=cross_entropy, cache=fake_cache_minus)\n",
    "#                 app_grad[k][i][j] = (grad_plus_loss - grad_minus_loss) / (2*h)\n",
    "\n",
    "# for k, v in app_grad.items():\n",
    "#     print(f\"app_grads - k: {k} || shape: {v.shape}\")\n",
    "\n",
    "# _, _, _, _, analytic_grad = train(gradient_input_data, gradient_label, learning_rate=learning_rate, loss_fn=cross_entropy, cache=caxx, batch_size=2, reg=1, iter=1)\n",
    "# for k, v in analytic_grad.items():\n",
    "#     print(f\"anal_grad - k: {k} || shape: {v.shape}\")"
   ]
  },
  {
   "cell_type": "code",
   "execution_count": 332,
   "metadata": {},
   "outputs": [],
   "source": [
    "# app_grad_vec = np.zeros((0,0))\n",
    "# for k, v in app_grad.items():\n",
    "#     # if k[0] != 'W' or k[0] != 'b':\n",
    "#     #     app_grad.pop(k)\n",
    "#     if k[0] == 'W':\n",
    "#         app_grad_vec = np.concatenate((app_grad_vec, app_grad[k]), axis=None)\n",
    "\n",
    "# for k, v in app_grad.items():\n",
    "#     # if k[0] != 'W' or k[0] != 'b':\n",
    "#     #     app_grad.pop(k)\n",
    "#     if k[0] == 'b':\n",
    "#         app_grad_vec = np.concatenate((app_grad_vec, app_grad[k]), axis=None)\n",
    "\n",
    "# anal_grad_vec = np.zeros((0,0))\n",
    "\n",
    "# for k, v in analytic_grad.items():\n",
    "#     anal_grad_vec = np.concatenate((anal_grad_vec, analytic_grad[k]), axis=None)\n",
    "\n",
    "# print(anal_grad_vec.shape)\n",
    "# print(app_grad_vec.shape)\n",
    "\n",
    "# num = np.linalg.norm(app_grad_vec - anal_grad_vec)\n",
    "# den = np.linalg.norm(anal_grad_vec)+ np.linalg.norm(app_grad_vec)\n",
    "\n",
    "# diff = num / den\n",
    "\n",
    "# print(num)\n",
    "# print(den)\n",
    "# print(diff)"
   ]
  },
  {
   "attachments": {},
   "cell_type": "markdown",
   "metadata": {},
   "source": [
    "No Work kkkkkk"
   ]
  },
  {
   "attachments": {},
   "cell_type": "markdown",
   "metadata": {},
   "source": [
    "# Dropout Regularization\n",
    "Implementing dropout regularization - must adjust the forward and backward calculations, as such:\n",
    "\n",
    "    forward: \n",
    "        1. for each hidden_layer, multiplying each neuron by a probability or remaining in the pass\n",
    "        2. saving the eliminated neurons mask for backprop\n",
    "\n",
    "    backward: \n",
    "        1. after each calculation of the derivative of the activation function this data must be multiplied by the mask from forward prop, zeroing out the neurons that were not activated\n",
    "        2. after changing the derivative of the activ funct, dividing it by the prob of keeping the neurons so the deriv gets weighted on the number of active neurons"
   ]
  },
  {
   "attachments": {},
   "cell_type": "markdown",
   "metadata": {},
   "source": [
    "Eu rodei essa bagaça la em cima this is just for ref"
   ]
  },
  {
   "cell_type": "code",
   "execution_count": 333,
   "metadata": {},
   "outputs": [],
   "source": [
    "# def dropout(input, keep_prob):\n",
    "#     '''gets weight matrix and prob estimate'''\n",
    "#     D = np.random.rand(*input.shape)\n",
    "#     mask = D < keep_prob\n",
    "#     adj_input = input * mask\n",
    "#     adj_input = adj_input / keep_prob\n",
    "\n",
    "#     return adj_input, mask, keep_prob\n",
    "\n",
    "# def dropout_backprop(dA, mask, keep_prob):\n",
    "#     ddrop = dA * mask\n",
    "#     ddrop = ddrop / keep_prob\n",
    "\n",
    "#     return ddrop"
   ]
  },
  {
   "attachments": {
    "image.png": {
     "image/png": "[encoded data removed]"
    }
   },
   "cell_type": "markdown",
   "metadata": {},
   "source": [
    "# Batch Norm\n",
    "\n",
    "Forward:\n",
    "    Applies a normalization through the batch data [x = (param, batch_size)]. Following the image below\n",
    "\n",
    "![image.png](attachment:image.png)"
   ]
  },
  {
   "attachments": {},
   "cell_type": "markdown",
   "metadata": {},
   "source": [
    "Therefore we need to understand which elements to save (for backprop), which are:\n",
    "1. x_hat_i\n",
    "2. xi\n",
    "3. mean_b\n",
    "4. std_dev_b\n",
    "5. lambda\n",
    "6. beta\n",
    "7. epsilon"
   ]
  },
  {
   "attachments": {},
   "cell_type": "markdown",
   "metadata": {},
   "source": [
    "Rodei essa bagaca la em cima, this is just for ref .2 and it is wrong"
   ]
  },
  {
   "cell_type": "code",
   "execution_count": 334,
   "metadata": {},
   "outputs": [
    {
     "name": "stdout",
     "output_type": "stream",
     "text": [
      "(1024, 1)\n",
      "(512, 1)\n",
      "(1024, 1)\n",
      "(512, 1)\n",
      "(1024, 60000)\n",
      "(1024, 60000)\n",
      "(512, 60000)\n",
      "(512, 60000)\n"
     ]
    }
   ],
   "source": [
    "# def batch_norm_forward(batch, gamma=1, beta=0.1, eps=1e-5):\n",
    "    \n",
    "#     mean_b = np.mean(batch, axis=1, keepdims=True)\n",
    "\n",
    "#     std_b = np.mean((batch - mean_b)**2, axis=1,keepdims=True)\n",
    "\n",
    "#     x_hat = (batch - mean_b) / ((std_b + eps)**2)\n",
    "\n",
    "#     out = gamma * x_hat + beta\n",
    "#     cache = (gamma, x_hat, std_b, mean_b, batch, eps)\n",
    "#     return out, cache\n",
    "\n",
    "# def batch_norm_backward(dout, cache):\n",
    "#     gamma, x_hat, std_b, mean_b, batch, eps = cache\n",
    "#     _, N = batch.shape\n",
    "\n",
    "#     dgamma = np.sum(dout * x_hat, axis=0, keepdims=True)\n",
    "#     dbeta = np.sum(dout, axis=0, keepdims=True)\n",
    "#     dx_hat = dout * gamma #is it a vector?\n",
    "#     dx_std = np.sum(dx_hat * ( -1/2*(batch - mean_b)*(std_b + eps)**(-3/2)), axis=1, keepdims=True)\n",
    "#     dx_mu = np.sum(dx_hat * -1* (std_b + eps)**(1/2), axis=1, keepdims=True) + dx_std * np.sum(-2* (batch-mean_b))/N\n",
    "#     dx = dx_mu * 1/N + dx_std * 2* (batch-mean_b)/N + dx_hat * (std_b+eps)**(1/2)\n",
    "\n",
    "\n",
    "#     return dx, dgamma, dbeta\n",
    "\n",
    "# mini_bitch = cache[\"A1\"]\n",
    "# print(mini_bitch.shape)\n",
    "# out, norm_cax = batch_norm_forward(mini_bitch)\n",
    "# dx, dgamma, dbeta = batch_norm_backward(cache[\"A1\"], norm_cax)\n",
    "print(cache['gamma1'].shape)\n",
    "print(cache['gamma2'].shape)\n",
    "print(cache['beta1'].shape)\n",
    "print(cache['beta2'].shape)\n",
    "print(cache['N1'].shape)\n",
    "print(cache[\"A1\"].shape)\n",
    "print(cache[\"A2\"].shape)\n",
    "print(cache['N2'].shape)\n"
   ]
  },
  {
   "cell_type": "code",
   "execution_count": null,
   "metadata": {},
   "outputs": [],
   "source": []
  }
 ],
 "metadata": {
  "kernelspec": {
   "display_name": "Python 3",
   "language": "python",
   "name": "python3"
  },
  "language_info": {
   "codemirror_mode": {
    "name": "ipython",
    "version": 3
   },
   "file_extension": ".py",
   "mimetype": "text/x-python",
   "name": "python",
   "nbconvert_exporter": "python",
   "pygments_lexer": "ipython3",
   "version": "3.9.6"
  },
  "orig_nbformat": 4
 },
 "nbformat": 4,
 "nbformat_minor": 2
}
