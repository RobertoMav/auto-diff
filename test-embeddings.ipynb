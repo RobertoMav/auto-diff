{
 "cells": [
  {
   "cell_type": "code",
   "execution_count": 60,
   "metadata": {},
   "outputs": [],
   "source": [
    "from torchtyping import TensorType\n",
    "from transformers import AutoModel, AutoTokenizer\n",
    "from torch.nn.functional import cosine_similarity\n",
    "from transformers.modeling_outputs import BaseModelOutputWithPoolingAndCrossAttentions\n",
    "from transformers.tokenization_utils_base import BatchEncoding\n",
    "\n",
    "\n",
    "class VizEmbeddings:\n",
    "    def __init__(self):\n",
    "        self.tokenizer: AutoTokenizer = self.get_tokenizer()\n",
    "        self.model: AutoModel = self.get_model()\n",
    "\n",
    "    def get_tokenizer(self, path: str = \"google-bert/bert-base-uncased\") -> AutoTokenizer:\n",
    "        return AutoTokenizer.from_pretrained(path)\n",
    "\n",
    "    def get_model(self, path: str = \"google-bert/bert-base-uncased\") -> AutoModel:\n",
    "        return AutoModel.from_pretrained(path)\n",
    "\n",
    "    def get_embeddings(\n",
    "        self,\n",
    "        document: str,\n",
    "    ) -> dict[str: BatchEncoding, str: BaseModelOutputWithPoolingAndCrossAttentions]:\n",
    "        tokens: BatchEncoding = self.tokenizer(document, return_tensors=\"pt\")\n",
    "        embeddings: BaseModelOutputWithPoolingAndCrossAttentions = self.model(**tokens)\n",
    "        return {\"tokens\": tokens, \"embeddings\": embeddings}\n",
    "\n",
    "    def get_tokens(\n",
    "            self,\n",
    "            document: str,\n",
    "    ) -> list[str]:\n",
    "        tokens: list[str] = self.tokenizer.tokenize(document)\n",
    "        return tokens\n",
    "\n",
    "    def find_token_indices(\n",
    "        self, \n",
    "        token_ids: BatchEncoding, \n",
    "        target_token_id: int,\n",
    "    ) -> list[int]:\n",
    "        token_list: list[int] = token_ids.input_ids[0].tolist()\n",
    "        return [id for id, token in enumerate(token_list) if token == target_token_id]\n",
    "\n",
    "    def get_token_embedding(\n",
    "        self,\n",
    "        embedding: BaseModelOutputWithPoolingAndCrossAttentions,\n",
    "        token_idx: int\n",
    "    ) -> TensorType[768]:\n",
    "        # Filter to get the embedding of our token_id\n",
    "        return embedding.last_hidden_state.squeeze()[token_idx]"
   ]
  },
  {
   "cell_type": "code",
   "execution_count": 61,
   "metadata": {},
   "outputs": [],
   "source": [
    "sentence_1 = \"I'm going to the bank to deposit money.\"\n",
    "sentence_2 = \"I'm going to wait by the river bank.\"\n",
    "sentence_3 = \"I'm going to wait by the bank after withdrawing money\"\n",
    "\n",
    "v = VizEmbeddings()"
   ]
  },
  {
   "cell_type": "code",
   "execution_count": 62,
   "metadata": {},
   "outputs": [],
   "source": [
    "embeddings_return_1 = v.get_embeddings(sentence_1)\n",
    "tokens_1: BatchEncoding = embeddings_return_1[\"tokens\"]\n",
    "\n",
    "# Pooler output is the classification task for the whole doc\n",
    "# Last hidden state is the embedding per token of the doc\n",
    "embeddings_1: BaseModelOutputWithPoolingAndCrossAttentions = embeddings_return_1[\"embeddings\"]\n",
    "\n",
    "embeddings_return_2 = v.get_embeddings(sentence_2)\n",
    "tokens_2: BatchEncoding = embeddings_return_2[\"tokens\"]\n",
    "embeddings_2: BaseModelOutputWithPoolingAndCrossAttentions = embeddings_return_2[\"embeddings\"]\n",
    "\n",
    "embeddings_return_3 = v.get_embeddings(sentence_3)\n",
    "tokens_3: BatchEncoding = embeddings_return_3[\"tokens\"]\n",
    "embeddings_3: BaseModelOutputWithPoolingAndCrossAttentions = embeddings_return_3[\"embeddings\"]"
   ]
  },
  {
   "cell_type": "code",
   "execution_count": 63,
   "metadata": {},
   "outputs": [],
   "source": [
    "\n",
    "bank_token_info: BatchEncoding = v.tokenizer(\"bank\", add_special_tokens=False)\n",
    "bank_token_id: int = bank_token_info.input_ids[0]\n",
    "\n",
    "bank_indices_1: list[int] = v.find_token_indices(tokens_1, bank_token_id)\n",
    "bank_indices_2: list[int] = v.find_token_indices(tokens_2, bank_token_id)\n",
    "bank_indices_3: list[int] = v.find_token_indices(tokens_3, bank_token_id)\n",
    "\n",
    "bank_embeddings: list[int | None] = []\n",
    "bank_embeddings_1: TensorType[768] = v.get_token_embedding(embeddings_1, bank_indices_1[0])\n",
    "bank_embeddings_2: TensorType[768] = v.get_token_embedding(embeddings_2, bank_indices_2[0])\n",
    "bank_embeddings_3: TensorType[768] = v.get_token_embedding(embeddings_3, bank_indices_3[0])\n",
    "\n",
    "sim_12: TensorType[1] = cosine_similarity(bank_embeddings_1, bank_embeddings_2, dim=0)\n",
    "sim_13: TensorType[1] = cosine_similarity(bank_embeddings_1, bank_embeddings_3, dim=0)\n",
    "sim_23: TensorType[1] = cosine_similarity(bank_embeddings_2, bank_embeddings_3, dim=0)"
   ]
  },
  {
   "cell_type": "code",
   "execution_count": 67,
   "metadata": {},
   "outputs": [
    {
     "name": "stdout",
     "output_type": "stream",
     "text": [
      "sim_12.item()=0.5621975660324097\n",
      "sim_13.item()=0.8822588324546814\n",
      "sim_23.item()=0.5796677470207214\n"
     ]
    }
   ],
   "source": [
    "print(f\"{sim_12.item()=}\")\n",
    "print(f\"{sim_13.item()=}\")\n",
    "print(f\"{sim_23.item()=}\")"
   ]
  }
 ],
 "metadata": {
  "kernelspec": {
   "display_name": ".venv",
   "language": "python",
   "name": "python3"
  },
  "language_info": {
   "codemirror_mode": {
    "name": "ipython",
    "version": 3
   },
   "file_extension": ".py",
   "mimetype": "text/x-python",
   "name": "python",
   "nbconvert_exporter": "python",
   "pygments_lexer": "ipython3",
   "version": "3.13.0"
  }
 },
 "nbformat": 4,
 "nbformat_minor": 2
}
